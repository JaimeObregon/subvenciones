{
 "cells": [
  {
   "cell_type": "markdown",
   "metadata": {},
   "source": [
    "# Consulta básica convocatorias\n",
    "El objetivo de este cuaderno es descargar en formato csv los datos relativos a las últimas cinco subvenciones publicadas en el portal oficial de subvenciones.\n",
    "\n",
    "La URL de la Base de datos nacional de subvenciones es: "
   ]
  },
  {
   "cell_type": "code",
   "execution_count": null,
   "metadata": {},
   "outputs": [],
   "source": [
    "import requests\n",
    "import pandas as pd\n",
    "# import BeautifulSoup as bs4"
   ]
  },
  {
   "cell_type": "markdown",
   "metadata": {},
   "source": [
    "Vamos a empezar trabajando con una sola convocatoria, para cómo se estructura la información. Al entrar en la página nos encontramos con que una de las últimas convocatorias es la 620078. Escogemos esta convocatoria en la tabla de la página de inicio y pulsamos sobre el número de convocatoria.\n",
    "\n",
    "En el navegador se nos abre la URL: https://www.infosubvenciones.es/bdnstrans/GE/es/convocatoria/620078\n",
    "\n",
    "En el pie de esta página encontramos también una URL de descaga de PDF: \n",
    "https://www.infosubvenciones.es/bdnstrans/GE/es/convocatoria/exportar/620078\n",
    "\n",
    "Trataremos de descargar estos contenidos utilizando la librería Requests de Python."
   ]
  },
  {
   "cell_type": "code",
   "execution_count": null,
   "metadata": {},
   "outputs": [],
   "source": []
  }
 ],
 "metadata": {
  "interpreter": {
   "hash": "b0fa6594d8f4cbf19f97940f81e996739fb7646882a419484c72d19e05852a7e"
  },
  "kernelspec": {
   "display_name": "Python 3.9.10 64-bit",
   "language": "python",
   "name": "python3"
  },
  "language_info": {
   "name": "python",
   "version": "3.9.10"
  },
  "orig_nbformat": 4
 },
 "nbformat": 4,
 "nbformat_minor": 2
}
