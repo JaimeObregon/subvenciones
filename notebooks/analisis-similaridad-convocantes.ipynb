{
 "cells": [
  {
   "cell_type": "markdown",
   "metadata": {},
   "source": [
    "# Análisis de similaridad de los datos de convocantes del ficheros convocatorias\n",
    "En este notebook vamos a hacer un análisis de similaridad de las columnas de convocantesN1,N2,N3 del fichero convocatorias, disponibles en https://github.com/JaimeObregon/subvenciones/tree/main/files\n",
    "\n",
    "En el canal de #extración-limpieza de Discord se ha planteado la posibilidade de hacer un análisis de similaridad entre cadenas, para homogeneizar los datos. Se han localizado al menos los siguientes casos de cadenas similares en el dataset (¡Gracias Mireia!):\n",
    "- RIOJA y LA RIOJA\n",
    "- COMRCA DE BAJO ARAGÓN-CASPE/BAIX ARAGÓ y COMRCA DE BAJO ARAGÓN\n",
    "\n",
    "Para localizar cadenas similares se ha propuesto el siguiente recurso: https://towardsdatascience.com/text-similarity-w-levenshtein-distance-in-python-2f7478986e75\n",
    "También hemos revisado: https://towardsdatascience.com/fuzzywuzzy-find-similar-strings-within-one-column-in-a-pandas-data-frame-99f6c2a0c212\n",
    "\n",
    "El objetivo de este cuaderno será generar unos ficheros de salida cuyos campos de salida para las columnas de convocantes sean lo más homogeneas posibles.\n",
    "\n",
    "De esta forma podremos agrupar los resultados de los convocantes, en base a los ficheros que tenemos. Así cuando alguien busque convocatorias lanzadas por \"La Rioja\" se devolverán los resultados correctos, tanto si en el fichero aparece \"LA RIOJA\" o \"RIOJA\" como convocantes. Como En el fichero de convocatorias no aparece el identificador de las entidades, debemos agruparlos en base a su descripción.\n",
    "\n",
    "Nota: Si estás en Linux/MacOS te tocará cambiar las rutas para cargar los ficheros de \\ a /\n"
   ]
  },
  {
   "cell_type": "code",
   "execution_count": 7,
   "metadata": {},
   "outputs": [
    {
     "name": "stderr",
     "output_type": "stream",
     "text": [
      "C:\\Users\\Mi PC\\AppData\\Local\\Programs\\Python\\Python39\\lib\\site-packages\\IPython\\core\\interactiveshell.py:3457: DtypeWarning: Columns (1,9) have mixed types.Specify dtype option on import or set low_memory=False.\n",
      "  exec(code_obj, self.user_global_ns, self.user_ns)\n"
     ]
    },
    {
     "data": {
      "text/html": [
       "<div>\n",
       "<style scoped>\n",
       "    .dataframe tbody tr th:only-of-type {\n",
       "        vertical-align: middle;\n",
       "    }\n",
       "\n",
       "    .dataframe tbody tr th {\n",
       "        vertical-align: top;\n",
       "    }\n",
       "\n",
       "    .dataframe thead th {\n",
       "        text-align: right;\n",
       "    }\n",
       "</style>\n",
       "<table border=\"1\" class=\"dataframe\">\n",
       "  <thead>\n",
       "    <tr style=\"text-align: right;\">\n",
       "      <th></th>\n",
       "      <th>0</th>\n",
       "      <th>1</th>\n",
       "      <th>2</th>\n",
       "      <th>3</th>\n",
       "      <th>4</th>\n",
       "      <th>5</th>\n",
       "      <th>6</th>\n",
       "      <th>7</th>\n",
       "      <th>8</th>\n",
       "      <th>9</th>\n",
       "      <th>10</th>\n",
       "      <th>11</th>\n",
       "      <th>12</th>\n",
       "    </tr>\n",
       "  </thead>\n",
       "  <tbody>\n",
       "    <tr>\n",
       "      <th>0</th>\n",
       "      <td>819060</td>\n",
       "      <td>617500</td>\n",
       "      <td>NO</td>\n",
       "      <td>DIPUTACIÓN PROV. DE JAÉN</td>\n",
       "      <td>DIPUTACIÓN PROVINCIAL DE JAÉN</td>\n",
       "      <td>NaN</td>\n",
       "      <td>25/03/2022</td>\n",
       "      <td>ADQUISICION DE MOBILIARIO PARA EDIFICIO AULAS ...</td>\n",
       "      <td>https://www.dipujaen.es/portal-de-transparenci...</td>\n",
       "      <td>NaN</td>\n",
       "      <td>NaN</td>\n",
       "      <td>350078</td>\n",
       "      <td>1</td>\n",
       "    </tr>\n",
       "    <tr>\n",
       "      <th>1</th>\n",
       "      <td>819059</td>\n",
       "      <td>617499</td>\n",
       "      <td>NO</td>\n",
       "      <td>REGIÓN DE MURCIA</td>\n",
       "      <td>INSTITUTO MURCIANO DE ACCION SOCIAL (I.M.A.S.)</td>\n",
       "      <td>NaN</td>\n",
       "      <td>25/03/2022</td>\n",
       "      <td>MANCOMUNIDAD RIO MULA MANTENIMIENTO CENTRO ATE...</td>\n",
       "      <td>https://www.borm.es/services/anuncio/ano/2022/...</td>\n",
       "      <td>NaN</td>\n",
       "      <td>NaN</td>\n",
       "      <td>350078</td>\n",
       "      <td>2</td>\n",
       "    </tr>\n",
       "    <tr>\n",
       "      <th>2</th>\n",
       "      <td>819058</td>\n",
       "      <td>617498</td>\n",
       "      <td>NO</td>\n",
       "      <td>ONDA</td>\n",
       "      <td>AYUNTAMIENTO DE ONDA</td>\n",
       "      <td>NaN</td>\n",
       "      <td>25/03/2022</td>\n",
       "      <td>Convenio de colaboración entre el Ayuntamiento...</td>\n",
       "      <td>https://www.onda.es/ond/web_php/index.php?cont...</td>\n",
       "      <td>NaN</td>\n",
       "      <td>NaN</td>\n",
       "      <td>350078</td>\n",
       "      <td>3</td>\n",
       "    </tr>\n",
       "    <tr>\n",
       "      <th>3</th>\n",
       "      <td>819057</td>\n",
       "      <td>617497</td>\n",
       "      <td>NO</td>\n",
       "      <td>TORRENT</td>\n",
       "      <td>AYUNTAMIENTO DE TORRENT</td>\n",
       "      <td>NaN</td>\n",
       "      <td>25/03/2022</td>\n",
       "      <td>SUBVENCION DIRECTA VARIOS ENTES 2020</td>\n",
       "      <td>https://www.torrent.es/torrentPublic/inicio/se...</td>\n",
       "      <td>NaN</td>\n",
       "      <td>NaN</td>\n",
       "      <td>350078</td>\n",
       "      <td>4</td>\n",
       "    </tr>\n",
       "    <tr>\n",
       "      <th>4</th>\n",
       "      <td>819056</td>\n",
       "      <td>617496</td>\n",
       "      <td>NO</td>\n",
       "      <td>REGIÓN DE MURCIA</td>\n",
       "      <td>INSTITUTO MURCIANO DE ACCION SOCIAL (I.M.A.S.)</td>\n",
       "      <td>NaN</td>\n",
       "      <td>25/03/2022</td>\n",
       "      <td>AYUNTAMIENTO YECLA MANTENIMIENTO CENTRO ATENCI...</td>\n",
       "      <td>https://www.borm.es/services/anuncio/ano/2022/...</td>\n",
       "      <td>NaN</td>\n",
       "      <td>NaN</td>\n",
       "      <td>350078</td>\n",
       "      <td>5</td>\n",
       "    </tr>\n",
       "    <tr>\n",
       "      <th>...</th>\n",
       "      <td>...</td>\n",
       "      <td>...</td>\n",
       "      <td>...</td>\n",
       "      <td>...</td>\n",
       "      <td>...</td>\n",
       "      <td>...</td>\n",
       "      <td>...</td>\n",
       "      <td>...</td>\n",
       "      <td>...</td>\n",
       "      <td>...</td>\n",
       "      <td>...</td>\n",
       "      <td>...</td>\n",
       "      <td>...</td>\n",
       "    </tr>\n",
       "    <tr>\n",
       "      <th>350063</th>\n",
       "      <td>75968</td>\n",
       "      <td>201020084326021D</td>\n",
       "      <td>NO</td>\n",
       "      <td>ANDALUCÍA</td>\n",
       "      <td>SECRETARÍA GENERAL TÉCNICA (JUSTICIA E INTERIOR)</td>\n",
       "      <td>NaN</td>\n",
       "      <td>12/01/2011</td>\n",
       "      <td>ORDEN DE 2 DE DICIEMBRE D 2009</td>\n",
       "      <td>Información no disponible en BDNS2007</td>\n",
       "      <td>NaN</td>\n",
       "      <td>NaN</td>\n",
       "      <td>350078</td>\n",
       "      <td>350064</td>\n",
       "    </tr>\n",
       "    <tr>\n",
       "      <th>350064</th>\n",
       "      <td>64666</td>\n",
       "      <td>20092009176181O</td>\n",
       "      <td>NO</td>\n",
       "      <td>ILLES BALEARS</td>\n",
       "      <td>SERVICIO DE OCUPACIÓN DE LAS ISLAS BALEARES (S...</td>\n",
       "      <td>NaN</td>\n",
       "      <td>07/01/2011</td>\n",
       "      <td>CONVOCATÒRIA PREFERENTMENT DESOCUPATS 2009</td>\n",
       "      <td>Información no disponible en BDNS2007</td>\n",
       "      <td>NaN</td>\n",
       "      <td>NaN</td>\n",
       "      <td>350078</td>\n",
       "      <td>350065</td>\n",
       "    </tr>\n",
       "    <tr>\n",
       "      <th>350065</th>\n",
       "      <td>76886</td>\n",
       "      <td>201020093744041D</td>\n",
       "      <td>NO</td>\n",
       "      <td>ANDALUCÍA</td>\n",
       "      <td>D. G. DE DESARROLLO SOSTENIBLE DEL MEDIO RURAL</td>\n",
       "      <td>NaN</td>\n",
       "      <td>18/10/2010</td>\n",
       "      <td>Convocatoria y participación de los Grupos de ...</td>\n",
       "      <td>www.juntadeandalucia.es/boja</td>\n",
       "      <td>NaN</td>\n",
       "      <td>NaN</td>\n",
       "      <td>350078</td>\n",
       "      <td>350066</td>\n",
       "    </tr>\n",
       "    <tr>\n",
       "      <th>350066</th>\n",
       "      <td>84221</td>\n",
       "      <td>2010201087671O</td>\n",
       "      <td>NO</td>\n",
       "      <td>ILLES BALEARS</td>\n",
       "      <td>SERVICIO DE OCUPACIÓN DE LAS ISLAS BALEARES (S...</td>\n",
       "      <td>NaN</td>\n",
       "      <td>05/10/2010</td>\n",
       "      <td>SUBVENCIONS ACCIONS FORMATIVES PREFERENT DESOC...</td>\n",
       "      <td>Información no disponible en BDNS2007</td>\n",
       "      <td>NaN</td>\n",
       "      <td>NaN</td>\n",
       "      <td>350078</td>\n",
       "      <td>350067</td>\n",
       "    </tr>\n",
       "    <tr>\n",
       "      <th>350067</th>\n",
       "      <td>26434</td>\n",
       "      <td>200720073730011D</td>\n",
       "      <td>NO</td>\n",
       "      <td>ANDALUCÍA</td>\n",
       "      <td>DIRECCIÓN GENERAL DE POLÍTICAS ACTIVAS DE EMPLEO</td>\n",
       "      <td>NaN</td>\n",
       "      <td>22/07/2010</td>\n",
       "      <td>ORDEN DE 11 DE MAYO DE 2007</td>\n",
       "      <td>Información no disponible en BDNS2007</td>\n",
       "      <td>NaN</td>\n",
       "      <td>NaN</td>\n",
       "      <td>350078</td>\n",
       "      <td>350068</td>\n",
       "    </tr>\n",
       "  </tbody>\n",
       "</table>\n",
       "<p>350068 rows × 13 columns</p>\n",
       "</div>"
      ],
      "text/plain": [
       "            0                 1   2                         3   \\\n",
       "0       819060            617500  NO  DIPUTACIÓN PROV. DE JAÉN   \n",
       "1       819059            617499  NO          REGIÓN DE MURCIA   \n",
       "2       819058            617498  NO                      ONDA   \n",
       "3       819057            617497  NO                   TORRENT   \n",
       "4       819056            617496  NO          REGIÓN DE MURCIA   \n",
       "...        ...               ...  ..                       ...   \n",
       "350063   75968  201020084326021D  NO                 ANDALUCÍA   \n",
       "350064   64666   20092009176181O  NO             ILLES BALEARS   \n",
       "350065   76886  201020093744041D  NO                 ANDALUCÍA   \n",
       "350066   84221    2010201087671O  NO             ILLES BALEARS   \n",
       "350067   26434  200720073730011D  NO                 ANDALUCÍA   \n",
       "\n",
       "                                                       4    5           6   \\\n",
       "0                           DIPUTACIÓN PROVINCIAL DE JAÉN  NaN  25/03/2022   \n",
       "1          INSTITUTO MURCIANO DE ACCION SOCIAL (I.M.A.S.)  NaN  25/03/2022   \n",
       "2                                    AYUNTAMIENTO DE ONDA  NaN  25/03/2022   \n",
       "3                                 AYUNTAMIENTO DE TORRENT  NaN  25/03/2022   \n",
       "4          INSTITUTO MURCIANO DE ACCION SOCIAL (I.M.A.S.)  NaN  25/03/2022   \n",
       "...                                                   ...  ...         ...   \n",
       "350063   SECRETARÍA GENERAL TÉCNICA (JUSTICIA E INTERIOR)  NaN  12/01/2011   \n",
       "350064  SERVICIO DE OCUPACIÓN DE LAS ISLAS BALEARES (S...  NaN  07/01/2011   \n",
       "350065     D. G. DE DESARROLLO SOSTENIBLE DEL MEDIO RURAL  NaN  18/10/2010   \n",
       "350066  SERVICIO DE OCUPACIÓN DE LAS ISLAS BALEARES (S...  NaN  05/10/2010   \n",
       "350067   DIRECCIÓN GENERAL DE POLÍTICAS ACTIVAS DE EMPLEO  NaN  22/07/2010   \n",
       "\n",
       "                                                       7   \\\n",
       "0       ADQUISICION DE MOBILIARIO PARA EDIFICIO AULAS ...   \n",
       "1       MANCOMUNIDAD RIO MULA MANTENIMIENTO CENTRO ATE...   \n",
       "2       Convenio de colaboración entre el Ayuntamiento...   \n",
       "3                    SUBVENCION DIRECTA VARIOS ENTES 2020   \n",
       "4       AYUNTAMIENTO YECLA MANTENIMIENTO CENTRO ATENCI...   \n",
       "...                                                   ...   \n",
       "350063                     ORDEN DE 2 DE DICIEMBRE D 2009   \n",
       "350064         CONVOCATÒRIA PREFERENTMENT DESOCUPATS 2009   \n",
       "350065  Convocatoria y participación de los Grupos de ...   \n",
       "350066  SUBVENCIONS ACCIONS FORMATIVES PREFERENT DESOC...   \n",
       "350067                        ORDEN DE 11 DE MAYO DE 2007   \n",
       "\n",
       "                                                       8    9   10      11  \\\n",
       "0       https://www.dipujaen.es/portal-de-transparenci...  NaN NaN  350078   \n",
       "1       https://www.borm.es/services/anuncio/ano/2022/...  NaN NaN  350078   \n",
       "2       https://www.onda.es/ond/web_php/index.php?cont...  NaN NaN  350078   \n",
       "3       https://www.torrent.es/torrentPublic/inicio/se...  NaN NaN  350078   \n",
       "4       https://www.borm.es/services/anuncio/ano/2022/...  NaN NaN  350078   \n",
       "...                                                   ...  ...  ..     ...   \n",
       "350063              Información no disponible en BDNS2007  NaN NaN  350078   \n",
       "350064              Información no disponible en BDNS2007  NaN NaN  350078   \n",
       "350065                       www.juntadeandalucia.es/boja  NaN NaN  350078   \n",
       "350066              Información no disponible en BDNS2007  NaN NaN  350078   \n",
       "350067              Información no disponible en BDNS2007  NaN NaN  350078   \n",
       "\n",
       "            12  \n",
       "0            1  \n",
       "1            2  \n",
       "2            3  \n",
       "3            4  \n",
       "4            5  \n",
       "...        ...  \n",
       "350063  350064  \n",
       "350064  350065  \n",
       "350065  350066  \n",
       "350066  350067  \n",
       "350067  350068  \n",
       "\n",
       "[350068 rows x 13 columns]"
      ]
     },
     "execution_count": 7,
     "metadata": {},
     "output_type": "execute_result"
    }
   ],
   "source": [
    "import pandas as pd\n",
    "import datetime as dt\n",
    "\n",
    "# Si estás usando Linux o Mac, aquí es donde tienes que cambiar los separadores de directorio para que te funcione\n",
    "# Formato Mac - Descomenta estas lineas\n",
    "# juridicas_1_file = '../files/juridicas_1.csv.gz'\n",
    "# juridicas_2_file = '../files/juridicas_2.csv.gz' \n",
    "#\n",
    "# Formato Windows\n",
    "convocatorias_file = '..\\\\files\\\\convocatorias.csv.gz'\n",
    "\n",
    "convocatorias_df = pd.read_csv(convocatorias_file, header=None)\n",
    "\n",
    "convocatorias_df.head(-10)\n"
   ]
  },
  {
   "cell_type": "markdown",
   "metadata": {},
   "source": [
    "Aquí podemos ver que la columna 1, aparte de integers, incluye también perlas como \"200720073730011D\", por lo que habrá que importarlo como strings."
   ]
  },
  {
   "cell_type": "code",
   "execution_count": 3,
   "metadata": {},
   "outputs": [
    {
     "name": "stdout",
     "output_type": "stream",
     "text": [
      "<class 'pandas.core.frame.DataFrame'>\n",
      "RangeIndex: 350078 entries, 0 to 350077\n",
      "Data columns (total 13 columns):\n",
      " #   Column  Non-Null Count   Dtype  \n",
      "---  ------  --------------   -----  \n",
      " 0   0       350078 non-null  int64  \n",
      " 1   1       350078 non-null  object \n",
      " 2   2       350078 non-null  object \n",
      " 3   3       350078 non-null  object \n",
      " 4   4       350078 non-null  object \n",
      " 5   5       54063 non-null   object \n",
      " 6   6       350078 non-null  object \n",
      " 7   7       350078 non-null  object \n",
      " 8   8       350078 non-null  object \n",
      " 9   9       17953 non-null   object \n",
      " 10  10      0 non-null       float64\n",
      " 11  11      350078 non-null  int64  \n",
      " 12  12      350078 non-null  int64  \n",
      "dtypes: float64(1), int64(3), object(9)\n",
      "memory usage: 34.7+ MB\n"
     ]
    }
   ],
   "source": [
    "convocatorias_df.info()"
   ]
  },
  {
   "cell_type": "markdown",
   "metadata": {},
   "source": [
    "Vamos a revisar las columnas 1 y 9, en las que se nos especifica más arriba que contienen datos de tipo mixto."
   ]
  },
  {
   "cell_type": "code",
   "execution_count": 4,
   "metadata": {},
   "outputs": [
    {
     "data": {
      "text/plain": [
       "'mixed-integer'"
      ]
     },
     "execution_count": 4,
     "metadata": {},
     "output_type": "execute_result"
    }
   ],
   "source": [
    "pd.api.types.infer_dtype(convocatorias_df[1])"
   ]
  },
  {
   "cell_type": "code",
   "execution_count": 5,
   "metadata": {},
   "outputs": [
    {
     "data": {
      "text/plain": [
       "'string'"
      ]
     },
     "execution_count": 5,
     "metadata": {},
     "output_type": "execute_result"
    }
   ],
   "source": [
    "pd.api.types.infer_dtype(convocatorias_df[9])"
   ]
  },
  {
   "cell_type": "markdown",
   "metadata": {},
   "source": [
    "El fichero no incluye encabezados, por lo que vamos a tener que localizar esta información.\n",
    "\n",
    "En base a la información disponible en la web https://www.infosubvenciones.es/bdnstrans/GE/es/convocatorias vamos a definir los nombres de las columnas.\n",
    "\n",
    "MRR: Mecanismo de Recuperación y Resiliencia"
   ]
  },
  {
   "cell_type": "code",
   "execution_count": 1,
   "metadata": {},
   "outputs": [],
   "source": [
    "nombres_columnas = [\n",
    "  \"IDConv\", #0\n",
    "  \"id\", #1\n",
    "  \"mrr\", #2\n",
    "  \"convocanteN1\", #3\n",
    "  \"convocanteN2\", #4\n",
    "  \"convocanteN3\", #5\n",
    "  \"fechareg\", #5\n",
    "  \"titulo\", #6\n",
    "  \"tituloleng\", #7\n",
    "  \"verConcesiones\", #8\n",
    "  \"\", #9\n",
    "  \"\", #10\n",
    "  \"\"  #12\n",
    "]\n",
    "\n",
    "etiquetas_columnas = [\n",
    "  \"ID\",\n",
    "  \"IDConv\",\n",
    "  \"Código BDNS\",\n",
    "  \"MRR\",\n",
    "  \"Administración\",\n",
    "  \"Departamento\",\n",
    "  \"Órgano\",\n",
    "  \"Fecha de registro\",\n",
    "  \"Título de la convocatoria\",\n",
    "  \"Título coodicial\",\n",
    "  \"Ver concesiones\",\n",
    "  \"\",\n",
    "  \"\",\n",
    "  \"\"\n",
    "]"
   ]
  },
  {
   "cell_type": "markdown",
   "metadata": {},
   "source": [
    "En vista a los datos anteriores, parece que el ID es el ID de la concesión concreta y el IDConv, el ID de la convocatoria. Creamos de nuevo el dataframe, empleando los nombres de las columnas."
   ]
  },
  {
   "cell_type": "code",
   "execution_count": 1,
   "metadata": {},
   "outputs": [
    {
     "ename": "NameError",
     "evalue": "name 'pd' is not defined",
     "output_type": "error",
     "traceback": [
      "\u001b[1;31m---------------------------------------------------------------------------\u001b[0m",
      "\u001b[1;31mNameError\u001b[0m                                 Traceback (most recent call last)",
      "\u001b[1;32mC:\\Users\\MIPC~1\\AppData\\Local\\Temp/ipykernel_22360/2540226235.py\u001b[0m in \u001b[0;36m<module>\u001b[1;34m\u001b[0m\n\u001b[1;32m----> 1\u001b[1;33m df = pd.read_csv(convocatorias_file,\n\u001b[0m\u001b[0;32m      2\u001b[0m \u001b[0mnames\u001b[0m \u001b[1;33m=\u001b[0m \u001b[0mnombres_columnas\u001b[0m\u001b[1;33m,\u001b[0m\u001b[1;33m\u001b[0m\u001b[1;33m\u001b[0m\u001b[0m\n\u001b[0;32m      3\u001b[0m \u001b[0mindex_col\u001b[0m\u001b[1;33m=\u001b[0m\u001b[1;34m\"ID\"\u001b[0m\u001b[1;33m,\u001b[0m\u001b[1;33m\u001b[0m\u001b[1;33m\u001b[0m\u001b[0m\n\u001b[0;32m      4\u001b[0m dtype={\n\u001b[0;32m      5\u001b[0m     \u001b[1;34m\"IDConv\"\u001b[0m\u001b[1;33m:\u001b[0m \u001b[0mstr\u001b[0m\u001b[1;33m,\u001b[0m\u001b[1;33m\u001b[0m\u001b[1;33m\u001b[0m\u001b[0m\n",
      "\u001b[1;31mNameError\u001b[0m: name 'pd' is not defined"
     ]
    }
   ],
   "source": [
    "df = pd.read_csv(convocatorias_file,\n",
    "names = nombres_columnas,\n",
    "index_col=\"ID\",\n",
    "dtype={\n",
    "    \"IDConv\": str,\n",
    "    \"detalles\": object,\n",
    "},\n",
    "parse_dates=[\"fechaconc\"],\n",
    "date_parser=lambda d: dt.datetime.strptime(d, \"%d/%m/%Y\"),\n",
    ").sort_values(\"fechaconc\")\n",
    "df.head()"
   ]
  },
  {
   "cell_type": "markdown",
   "metadata": {},
   "source": [
    "Obtenemos información general de nuevo dataframe:"
   ]
  },
  {
   "cell_type": "code",
   "execution_count": null,
   "metadata": {},
   "outputs": [],
   "source": [
    "df.info()"
   ]
  },
  {
   "cell_type": "markdown",
   "metadata": {},
   "source": [
    "La columna beneficiario es un string que incluye en CIF y la descripción dentro del propio campo. Vamos a separarlo en dos columnas."
   ]
  },
  {
   "cell_type": "code",
   "execution_count": null,
   "metadata": {},
   "outputs": [],
   "source": [
    "df[['cif_beneficiario','beneficiario']] = df['beneficiario'].str.split(\" \", n=1, expand=True)"
   ]
  },
  {
   "cell_type": "code",
   "execution_count": null,
   "metadata": {},
   "outputs": [],
   "source": [
    "df.head()"
   ]
  },
  {
   "cell_type": "markdown",
   "metadata": {},
   "source": [
    "A continuación, vamos a crear un reporte de los datos completos, empleando la libería pandas_profiling. Esto puede servirnos para caracterizar mejor los datos, detectar anomalías, correlaciones, resumenes de los datos, etc.\n",
    "\n",
    "Nota: Está sección está comentada puesto que en algunas instalaciones puede fallar la importación de pandas_profiling debido a dependencias de la [librería de pandas ABCIndexClass](https://stackoverflow.com/questions/68704002/importerror-cannot-import-name-abcindexclass-from-pandas-core-dtypes-generic)"
   ]
  },
  {
   "cell_type": "code",
   "execution_count": null,
   "metadata": {},
   "outputs": [],
   "source": [
    "# from pandas_profiling import ProfileReport\n",
    "\n",
    "# report_juridicas = ProfileReport(df)\n",
    "# report_juridicas.to_file('report_profiling_juridicas.html')"
   ]
  },
  {
   "cell_type": "markdown",
   "metadata": {},
   "source": [
    "# Exportación de los datasets\n",
    "Para finalizar vamos a generar los datasets originales, incluyendo los nombres de columnas y la columna de cif separada. Como hay gente que prefería trabajar con ficheros json, vamos a generar también unos ficheros json."
   ]
  },
  {
   "cell_type": "code",
   "execution_count": null,
   "metadata": {},
   "outputs": [],
   "source": [
    "# export a csv\n",
    "df.to_csv(\"../files/juridicas_cif.csv.gz\", compression=\"gzip\") # Fichero completo con la columna cif_beneficiario separada\n",
    "\n",
    "# export de los ficheros originales tras separar la columna cif_beneficiario en los dataframe parciales\n",
    "df1[['cif_beneficiario','beneficiario']] = df1['beneficiario'].str.split(\" \", n=1, expand=True)\n",
    "df2[['cif_beneficiario','beneficiario']] = df2['beneficiario'].str.split(\" \", n=1, expand=True)\n",
    "\n",
    "df1.to_csv(\"../files/juridicas_1_cif.csv.gz\", compression=\"gzip\") # Fichero completo con la columna cif_beneficiario separada\n",
    "df2.to_csv(\"../files/juridicas_2_cif.csv.gz\", compression=\"gzip\") # Fichero completo con la columna cif_beneficiario separada"
   ]
  },
  {
   "cell_type": "markdown",
   "metadata": {},
   "source": [
    "# Problema en los datos - Indices duplicados"
   ]
  },
  {
   "cell_type": "code",
   "execution_count": null,
   "metadata": {},
   "outputs": [],
   "source": [
    "# La exportación a json falla, porque existen índices duplicados - Se puede comprobar descomentando las siguientes líneas\n",
    "# export a json\n",
    "# df.to_json(\"../files/juridicas_cif.json.gz\", compression=\"gzip\") # Fichero completo con la columna cif_beneficiario separada\n",
    "# df1.to_json(\"../files/juridicas_1_cif.json.gz\", compression=\"gzip\") # Fichero completo con la columna cif_beneficiario separada\n",
    "# df2.to_json(\"../files/juridicas_2_cif.json.gz\", compression=\"gzip\") # Fichero completo con la columna cif_beneficiario separada"
   ]
  },
  {
   "cell_type": "code",
   "execution_count": null,
   "metadata": {},
   "outputs": [],
   "source": [
    "# Comprobación índices duplicados\n",
    "idx = df.index\n",
    "df_dup = df[idx.duplicated()]\n",
    "df_dup.shape"
   ]
  },
  {
   "cell_type": "markdown",
   "metadata": {},
   "source": [
    "## Muestra de registros con índice duplicado\n",
    "En total hay 15894 registros con índice duplicado. Estos registros están en el fichero juridicas_1. A primera vista parecen la misma subvención, con valores diferentes para los campos numcov y sanción (que hasta donde se, son campos ocultos)"
   ]
  },
  {
   "cell_type": "code",
   "execution_count": null,
   "metadata": {},
   "outputs": [],
   "source": [
    "df.loc[[58300439]]"
   ]
  },
  {
   "cell_type": "markdown",
   "metadata": {},
   "source": [
    "# Preguntas pendientes\n",
    "- ¿Qué significan los números 10435022 y 10413793 que ocupan la columna sanción (con un reparto del 72.6% y 27.4%)?\n",
    "- ¿Qué es la columna numcov?\n",
    "- ¿Por qué hay registros con el índice duplicado?\n",
    "- ¿Quién asigna y qué significa la columna proyecto?"
   ]
  },
  {
   "cell_type": "code",
   "execution_count": null,
   "metadata": {},
   "outputs": [],
   "source": []
  }
 ],
 "metadata": {
  "interpreter": {
   "hash": "6ed013b11ec7b6c67ea8ebfbca61bb3e68bfd21581f9a134b53b833815fd7c7a"
  },
  "kernelspec": {
   "display_name": "Python 3.9.1 64-bit",
   "language": "python",
   "name": "python3"
  },
  "language_info": {
   "codemirror_mode": {
    "name": "ipython",
    "version": 3
   },
   "file_extension": ".py",
   "mimetype": "text/x-python",
   "name": "python",
   "nbconvert_exporter": "python",
   "pygments_lexer": "ipython3",
   "version": "3.9.1"
  },
  "orig_nbformat": 4
 },
 "nbformat": 4,
 "nbformat_minor": 2
}
